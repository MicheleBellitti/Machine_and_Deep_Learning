{
  "cells": [
    {
      "cell_type": "markdown",
      "metadata": {
        "id": "a9knEDxY-0vn"
      },
      "source": [
        "# Implement VGG-Net"
      ]
    },
    {
      "cell_type": "code",
      "execution_count": 127,
      "metadata": {
        "id": "By6XoRQyL_bN"
      },
      "outputs": [],
      "source": [
        "import torch\n",
        "import torch.nn as nn\n",
        "\n",
        "import torch.nn.functional as F\n",
        "import numpy as np\n",
        "\n",
        "CONV_KERNEL_SIZE = 3 # constant for convolutional kernels \n",
        "POOL_KERNEL_SIZE = 2 # constant for pooling kernels \n",
        "\n",
        "class VGG16(nn.Module):\n",
        "    \n",
        "    def __init__(self, in_channels: int = 3, num_classes: int = 1000, cifar: bool = False):\n",
        "        self.in_channels = in_channels\n",
        "        self.num_classes = num_classes\n",
        "        self.cifar = cifar\n",
        "        super(VGG16, self).__init__()\n",
        "        \n",
        "        # divide the convolutional feature extraction part of the net\n",
        "        # from the final fully-connected classification part\n",
        "        self.conv_features = nn.Sequential(\n",
        "            nn.Conv2d(self.in_channels, 64, CONV_KERNEL_SIZE), # 224\n",
        "            nn.ReLU(),\n",
        "            nn.Conv2d(64, 64, CONV_KERNEL_SIZE),     \n",
        "            nn.ReLU(),\n",
        "            nn.MaxPool2d(POOL_KERNEL_SIZE),\n",
        "            \n",
        "            nn.Conv2d(64, 128, CONV_KERNEL_SIZE),\n",
        "            nn.ReLU(),\n",
        "            nn.Conv2d(128, 128, CONV_KERNEL_SIZE), \n",
        "            nn.ReLU(),\n",
        "            nn.MaxPool2d(POOL_KERNEL_SIZE),\n",
        "            \n",
        "            nn.Conv2d(128, 256, CONV_KERNEL_SIZE), \n",
        "            nn.ReLU(),\n",
        "            nn.Conv2d(256, 256, CONV_KERNEL_SIZE), \n",
        "            nn.ReLU(),\n",
        "            nn.Conv2d(256, 256, 1), \n",
        "            nn.ReLU(),\n",
        "            nn.MaxPool2d(POOL_KERNEL_SIZE),\n",
        "            \n",
        "            nn.Conv2d(256, 512, CONV_KERNEL_SIZE), \n",
        "            nn.ReLU(),\n",
        "            nn.Conv2d(512, 512, CONV_KERNEL_SIZE),\n",
        "            nn.ReLU(),\n",
        "            nn.Conv2d(512, 512, 1),\n",
        "            nn.ReLU(),\n",
        "            nn.MaxPool2d(POOL_KERNEL_SIZE),\n",
        "            \n",
        "            nn.Conv2d(512, 512, CONV_KERNEL_SIZE), \n",
        "            nn.ReLU(),\n",
        "            nn.Conv2d(512, 512, CONV_KERNEL_SIZE),\n",
        "            nn.ReLU(),\n",
        "            nn.Conv2d(512, 512, 1),\n",
        "            nn.ReLU(),\n",
        "            nn.MaxPool2d(POOL_KERNEL_SIZE,2),\n",
        "        ) if not self.cifar else nn.Sequential(\n",
        "            nn.Conv2d(self.in_channels, 64, CONV_KERNEL_SIZE), # 224\n",
        "            nn.ReLU(),\n",
        "            nn.Conv2d(64, 64, CONV_KERNEL_SIZE),     \n",
        "            nn.ReLU(),\n",
        "            nn.MaxPool2d(POOL_KERNEL_SIZE),\n",
        "            \n",
        "            nn.Conv2d(64, 128, CONV_KERNEL_SIZE),\n",
        "            nn.ReLU(),\n",
        "            nn.Conv2d(128, 128, CONV_KERNEL_SIZE), \n",
        "            nn.ReLU(),\n",
        "            nn.MaxPool2d(POOL_KERNEL_SIZE),\n",
        "            \n",
        "            nn.Conv2d(128, 256, CONV_KERNEL_SIZE), \n",
        "            nn.ReLU(),\n",
        "            nn.MaxPool2d(POOL_KERNEL_SIZE,2)\n",
        "        )\n",
        "\n",
        "        self.avgpool = nn.AdaptiveAvgPool2d((7,7)) if not cifar else nn.AdaptiveAvgPool2d((5,5))\n",
        "\n",
        "        # 3 fully connected layers\n",
        "\n",
        "        self.fc1 = nn.Linear(5*5*256, 64) if self.cifar else nn.Linear(7*7*512, 4096)\n",
        "        self.fc2 = nn.Linear(64,64) if self.cifar else nn.Linear(4096, 4096)\n",
        "        self.fc3 = nn.Linear(64,self.num_classes) if self.cifar else nn.Linear(4096, self.num_classes)\n",
        "\n",
        "    def forward(self, x):\n",
        "        # code goes here for the forward function\n",
        "        \n",
        "        x = self.conv_features(x)\n",
        "        x = self.avgpool(x)\n",
        "        x = x.view(x.size(0), -1)\n",
        "        x = F.softmax(self.fc3(F.dropout(F.relu(self.fc2(F.dropout(F.relu(self.fc1(x))))))),dim=-1)\n",
        "        return x\n",
        "\n",
        "\n"
      ]
    },
    {
      "cell_type": "markdown",
      "metadata": {
        "id": "fGj9ISKL-5hZ"
      },
      "source": [
        "# Forward Pass Debug\n",
        "If it can process random data, then you're mostly alright :D"
      ]
    },
    {
      "cell_type": "code",
      "execution_count": 128,
      "metadata": {
        "id": "aIFRGVCaMeY7",
        "colab": {
          "base_uri": "https://localhost:8080/"
        },
        "outputId": "ce71ea75-d3e1-43b6-a2a6-1776f6bdcc6b"
      },
      "outputs": [
        {
          "output_type": "stream",
          "name": "stdout",
          "text": [
            "Number of parameters : 133638952\n",
            "--------------------------------------------------\n",
            "prediction: tensor([[0.0010, 0.0010, 0.0010,  ..., 0.0010, 0.0010, 0.0010],\n",
            "        [0.0010, 0.0010, 0.0010,  ..., 0.0010, 0.0010, 0.0010],\n",
            "        [0.0010, 0.0010, 0.0010,  ..., 0.0010, 0.0010, 0.0010],\n",
            "        ...,\n",
            "        [0.0010, 0.0010, 0.0010,  ..., 0.0010, 0.0010, 0.0010],\n",
            "        [0.0010, 0.0010, 0.0010,  ..., 0.0010, 0.0010, 0.0010],\n",
            "        [0.0010, 0.0010, 0.0010,  ..., 0.0010, 0.0010, 0.0010]],\n",
            "       grad_fn=<SoftmaxBackward0>)\n"
          ]
        }
      ],
      "source": [
        "import numpy as np\n",
        "\n",
        "net = VGG16() # instantiate your net\n",
        "num_params = sum([np.prod(p.shape) for p in net.parameters()])\n",
        "print(f\"Number of parameters : {num_params}\")\n",
        "print('-'*50)\n",
        "\n",
        "# test on Imagenet-like shaped data (224x224)\n",
        "\n",
        "X = torch.rand((8,3,224, 224))\n",
        "print(f'prediction: {net(X)}')\n",
        "\n"
      ]
    },
    {
      "cell_type": "code",
      "execution_count": 129,
      "metadata": {
        "id": "s2OXLXc2TEWm",
        "colab": {
          "base_uri": "https://localhost:8080/"
        },
        "outputId": "fbe5b533-befb-49b2-fb22-dbf2b20fca4d"
      },
      "outputs": [
        {
          "output_type": "stream",
          "name": "stdout",
          "text": [
            "output shape for cifar torch.Size([4, 10])\n"
          ]
        }
      ],
      "source": [
        "# test on CIFAR-like shaped data (32x32)\n",
        "net = VGG16(num_classes=10,cifar=True)\n",
        "X = torch.rand((4, 3, 32, 32))\n",
        "\n",
        "print('output shape for cifar', net(X).shape)"
      ]
    },
    {
      "cell_type": "markdown",
      "metadata": {
        "id": "tLlCXtaH_Lrc"
      },
      "source": [
        "# OPTIONAL: Let's train on CIFAR-10"
      ]
    },
    {
      "cell_type": "markdown",
      "metadata": {
        "id": "27n3YyGvb7Iz"
      },
      "source": [
        "let's load the dataset"
      ]
    },
    {
      "cell_type": "code",
      "execution_count": 130,
      "metadata": {
        "id": "QAX1THll-IgS",
        "colab": {
          "base_uri": "https://localhost:8080/"
        },
        "outputId": "6321ce97-dbec-4270-a64f-15c37a66fc63"
      },
      "outputs": [
        {
          "output_type": "stream",
          "name": "stdout",
          "text": [
            "Files already downloaded and verified\n",
            "Files already downloaded and verified\n"
          ]
        }
      ],
      "source": [
        "import torchvision\n",
        "import torchvision.transforms as transforms\n",
        "\n",
        "\n",
        "mean = (0.4913997551666284, 0.48215855929893703, 0.4465309133731618)\n",
        "std  = (0.24703225141799082, 0.24348516474564, 0.26158783926049628)\n",
        "\n",
        "# Choose the appropriate transforms for the problem at hand\n",
        "# see https://pytorch.org/vision/stable/transforms.html\n",
        "transform = transforms.Compose(\n",
        "    [transforms.ToTensor(),\n",
        "     transforms.Normalize(mean, std)\n",
        "    ])\n",
        "\n",
        "trainset = torchvision.datasets.CIFAR10(root='./data', train=True,\n",
        "                                        download=True, transform=transform)\n",
        "trainloader = torch.utils.data.DataLoader(trainset, batch_size=64,\n",
        "                                          shuffle=True, num_workers=2)\n",
        "\n",
        "testset = torchvision.datasets.CIFAR10(root='./data', train=False,\n",
        "                                       download=True, transform=transform)\n",
        "testloader = torch.utils.data.DataLoader(testset, batch_size=64,\n",
        "                                         shuffle=False, num_workers=2)\n",
        "classes = ('plane', 'car', 'bird', 'cat',\n",
        "           'deer', 'dog', 'frog', 'horse', 'ship', 'truck')"
      ]
    },
    {
      "cell_type": "markdown",
      "metadata": {
        "id": "SYWA3fC1b96A"
      },
      "source": [
        "let's plot some sample images"
      ]
    },
    {
      "cell_type": "code",
      "execution_count": 131,
      "metadata": {
        "id": "TXeHsX_I_veV",
        "colab": {
          "base_uri": "https://localhost:8080/",
          "height": 229
        },
        "outputId": "f7734164-92d3-4243-d280-6b34ad60ac25"
      },
      "outputs": [
        {
          "output_type": "stream",
          "name": "stdout",
          "text": [
            "torch.Size([4, 3, 32, 32])\n"
          ]
        },
        {
          "output_type": "display_data",
          "data": {
            "text/plain": [
              "<Figure size 640x480 with 1 Axes>"
            ],
            "image/png": "[encoded data removed]"
          },
          "metadata": {}
        },
        {
          "output_type": "stream",
          "name": "stdout",
          "text": [
            "plane  frog  bird  frog\n"
          ]
        }
      ],
      "source": [
        "import matplotlib.pyplot as plt\n",
        "\n",
        "# functions to show an image\n",
        "def imshow(img):\n",
        "    img = img * np.array(std)[:,None,None] + np.array(mean)[:,None,None] # unnormalize\n",
        "    npimg = img.numpy()\n",
        "    plt.imshow(np.transpose(npimg, (1, 2, 0)))\n",
        "    plt.show()\n",
        "\n",
        "# get some random training images\n",
        "dataiter = iter(trainloader)\n",
        "images, labels = next(dataiter)\n",
        "images, labels = images[:4], labels[:4]\n",
        "print(images.size())\n",
        "# show images\n",
        "imshow(torchvision.utils.make_grid(images))\n",
        "print(' '.join('%5s' % classes[labels[j]] for j in range(4)))"
      ]
    },
    {
      "cell_type": "code",
      "execution_count": 132,
      "metadata": {
        "id": "-7w-ZoDu_ZKd",
        "colab": {
          "base_uri": "https://localhost:8080/"
        },
        "outputId": "5d96f5fa-bed5-4cc2-c581-626f2d100ba4"
      },
      "outputs": [
        {
          "output_type": "stream",
          "name": "stdout",
          "text": [
            "Congrats, you're running this code on a Tesla T4 gpu\n"
          ]
        }
      ],
      "source": [
        "assert torch.cuda.is_available(), \"Notebook is not configured properly!\"\n",
        "print('Congrats, you\\'re running this code on a', torch.cuda.get_device_name(), 'gpu')\n",
        "device = 'cuda:0'\n",
        "\n",
        "net = VGG16(num_classes=10,cifar=True).to(device)\n",
        "\n",
        "# Nothing works w/o Batch Norm or Proper Initialization\n",
        "def initialize_weights(model):\n",
        "    for m in model.modules():\n",
        "        if isinstance(m, nn.Conv2d):\n",
        "            nn.init.kaiming_normal_(m.weight, mode=\"fan_out\", nonlinearity=\"relu\")\n",
        "            if m.bias is not None:\n",
        "                nn.init.constant_(m.bias, 0)\n",
        "        elif isinstance(m, nn.BatchNorm2d):\n",
        "            nn.init.constant_(m.weight, 1)\n",
        "            nn.init.constant_(m.bias, 0)\n",
        "        elif isinstance(m, nn.Linear):\n",
        "            nn.init.normal_(m.weight, 0, 0.01)\n",
        "            nn.init.constant_(m.bias, 0)\n",
        "initialize_weights(net)\n",
        "\n",
        "# define here the Pytorch objects needed for training\n",
        "crit = nn.CrossEntropyLoss() # loss criterion\n",
        "optim = torch.optim.Adam(net.parameters()) # optimizer\n",
        "epochs = 10"
      ]
    },
    {
      "cell_type": "markdown",
      "metadata": {
        "id": "-Sr1yvITcfNB"
      },
      "source": [
        "Training loop"
      ]
    },
    {
      "cell_type": "code",
      "execution_count": null,
      "metadata": {
        "id": "wNn2W2ZLKSf9",
        "colab": {
          "base_uri": "https://localhost:8080/",
          "height": 167,
          "referenced_widgets": [
            "1aef050cf419462383228ec42d8d9192",
            "c2aed149d288424f9a69ed3ffcb2ce78",
            "165d9a87c72440eda6e229dd4c6c7d03",
            "e39e21bf219f42cfaf82fa889fefec2a",
            "9be95c186bce4355b0353b9b859be329",
            "3c75a237903f48eea250348049d657aa",
            "0fa2310c93d44a9283643163def23d81",
            "67a4157ea02c4c1aabebf458a4208fd7",
            "49b57d3a43be4ec382bd098c217f986c",
            "51e626ba918d4de7b00453ce2b216c8b",
            "20866af7b5ed413e943c108f68a1d729",
            "60e06037eecb45248da8c312647f74a4",
            "0f11758c8fd3414195048becdc2cc414",
            "f84c3941abc446b0b55a921b8498f64e",
            "06b3d5cce4f54819a6b2b0fcc62ccc1b",
            "1a7e4e743eb44f168323bde2f4973e8d",
            "7c92a686ae1148a0af8ee0f6122f77e4",
            "333365dd3516451d9b9c2dbfe620624d",
            "c1d18c6a3bf741a3b1e3c1fba4b6bdf9",
            "96c0ec37e6034f3a981bf53c91364733",
            "2993b24b942347eb8059d87020d1ca1c",
            "4f4b8f7aa67e43869e316a7feb27cdfd",
            "efb018dc11274260ba3fe44957f64c25",
            "abe6f9e3de1743108811e8ffe527164d",
            "10731117dade440bbaa933159f8a8bac",
            "9f6bf73cd73941b2a77c00a375cef6a9",
            "d120edcb5b234d399cf675e3ae21cae7",
            "ca18e8bc919a4dc3bad6237b573d411c",
            "48d5023a1d22464db141f1aa5e20ba64",
            "e502243466e04387a13ce80628e8cce9",
            "512b0185eae847a581dc72c2e0d73fd7",
            "2077a7b7b223454786ed2f1737ce4ede",
            "9eca34b03e734df699e10f78d60dc88e"
          ]
        },
        "outputId": "8bc6bc48-dfca-4ece-8ce9-c6669015e087"
      },
      "outputs": [
        {
          "output_type": "stream",
          "name": "stdout",
          "text": [
            "Starting training...\n"
          ]
        },
        {
          "output_type": "display_data",
          "data": {
            "text/plain": [
              "Epoch 0 - 0%:   0%|          | 0/782 [00:00<?, ?it/s]"
            ],
            "application/vnd.jupyter.widget-view+json": {
              "version_major": 2,
              "version_minor": 0,
              "model_id": "1aef050cf419462383228ec42d8d9192"
            }
          },
          "metadata": {}
        },
        {
          "output_type": "stream",
          "name": "stdout",
          "text": [
            "Accuracy for epoch 0:0.050999999046325684\n"
          ]
        },
        {
          "output_type": "display_data",
          "data": {
            "text/plain": [
              "Epoch 1 - 0%:   0%|          | 0/782 [00:00<?, ?it/s]"
            ],
            "application/vnd.jupyter.widget-view+json": {
              "version_major": 2,
              "version_minor": 0,
              "model_id": "60e06037eecb45248da8c312647f74a4"
            }
          },
          "metadata": {}
        },
        {
          "output_type": "stream",
          "name": "stdout",
          "text": [
            "Accuracy for epoch 1:0.05199999734759331\n"
          ]
        },
        {
          "output_type": "display_data",
          "data": {
            "text/plain": [
              "Epoch 2 - 0%:   0%|          | 0/782 [00:00<?, ?it/s]"
            ],
            "application/vnd.jupyter.widget-view+json": {
              "version_major": 2,
              "version_minor": 0,
              "model_id": "efb018dc11274260ba3fe44957f64c25"
            }
          },
          "metadata": {}
        }
      ],
      "source": [
        "from datetime import datetime\n",
        "from IPython.display import Image\n",
        "from tqdm.notebook import tqdm\n",
        "from IPython.display import clear_output\n",
        "from time import sleep\n",
        "import matplotlib.pyplot as plt\n",
        "\n",
        "print(\"Starting training...\")\n",
        "for e in range(epochs):\n",
        "    # magic progress bar printer\n",
        "    pbar = tqdm(total=len(trainloader), desc=f'Epoch {e} - 0%')\n",
        "    \n",
        "    # training loop\n",
        "    for i, (x, y) in enumerate(trainloader):\n",
        "        x, y = x.to(device), y.to(device)\n",
        "        # forward pass goes here\n",
        "        y_hat = net(x)\n",
        "        loss = crit(y_hat, y)\n",
        "        loss.backward()\n",
        "\n",
        "        # logging functions\n",
        "        pbar.update(1)\n",
        "        pbar.set_description(f'Epoch {e} - {round(i/len(trainloader) * 100)}% -- loss {loss.item():.2f}')\n",
        "        optim.step()\n",
        "    \n",
        "\n",
        "    corr = 0\n",
        "\n",
        "    with torch.no_grad():\n",
        "        for x, y in testloader:\n",
        "            x, y = x.to(device), y.to(device)\n",
        "            pred = net(x)\n",
        "\n",
        "            pred = pred.view(pred.size(0),-1)\n",
        "            \n",
        "            corr += torch.sum(pred.max(dim=1)[0] == y)\n",
        "    print(f\"Accuracy for epoch {e}:{corr / len(testset)}\")\n",
        "print(\"Ending training...\")"
      ]
    }
  ],
  "metadata": {
    "accelerator": "GPU",
    "colab": {
      "provenance": []
    },
    "interpreter": {
      "hash": "7286f69deab7f973c9668e33dbc15e2bac731ee29b4c1c54acb4e6a7c7f2e4cd"
    },
    "kernelspec": {
      "display_name": "Python 3.9.12 ('base')",
      "language": "python",
      "name": "python3"
    },
    "language_info": {
      "codemirror_mode": {
        "name": "ipython",
        "version": 3
      },
      "file_extension": ".py",
      "mimetype": "text/x-python",
      "name": "python",
      "nbconvert_exporter": "python",
      "pygments_lexer": "ipython3",
      "version": "3.9.12"
    },
    "gpuClass": "standard",
    "widgets": {
      "application/vnd.jupyter.widget-state+json": {
        "1aef050cf419462383228ec42d8d9192": {
          "model_module": "@jupyter-widgets/controls",
          "model_name": "HBoxModel",
          "model_module_version": "1.5.0",
          "state": {
            "_dom_classes": [],
            "_model_module": "@jupyter-widgets/controls",
            "_model_module_version": "1.5.0",
            "_model_name": "HBoxModel",
            "_view_count": null,
            "_view_module": "@jupyter-widgets/controls",
            "_view_module_version": "1.5.0",
            "_view_name": "HBoxView",
            "box_style": "",
            "children": [
              "IPY_MODEL_c2aed149d288424f9a69ed3ffcb2ce78",
              "IPY_MODEL_165d9a87c72440eda6e229dd4c6c7d03",
              "IPY_MODEL_e39e21bf219f42cfaf82fa889fefec2a"
            ],
            "layout": "IPY_MODEL_9be95c186bce4355b0353b9b859be329"
          }
        },
        "c2aed149d288424f9a69ed3ffcb2ce78": {
          "model_module": "@jupyter-widgets/controls",
          "model_name": "HTMLModel",
          "model_module_version": "1.5.0",
          "state": {
            "_dom_classes": [],
            "_model_module": "@jupyter-widgets/controls",
            "_model_module_version": "1.5.0",
            "_model_name": "HTMLModel",
            "_view_count": null,
            "_view_module": "@jupyter-widgets/controls",
            "_view_module_version": "1.5.0",
            "_view_name": "HTMLView",
            "description": "",
            "description_tooltip": null,
            "layout": "IPY_MODEL_3c75a237903f48eea250348049d657aa",
            "placeholder": "​",
            "style": "IPY_MODEL_0fa2310c93d44a9283643163def23d81",
            "value": "Epoch 0 - 100% -- loss 2.25: 100%"
          }
        },
        "165d9a87c72440eda6e229dd4c6c7d03": {
          "model_module": "@jupyter-widgets/controls",
          "model_name": "FloatProgressModel",
          "model_module_version": "1.5.0",
          "state": {
            "_dom_classes": [],
            "_model_module": "@jupyter-widgets/controls",
            "_model_module_version": "1.5.0",
            "_model_name": "FloatProgressModel",
            "_view_count": null,
            "_view_module": "@jupyter-widgets/controls",
            "_view_module_version": "1.5.0",
            "_view_name": "ProgressView",
            "bar_style": "",
            "description": "",
            "description_tooltip": null,
            "layout": "IPY_MODEL_67a4157ea02c4c1aabebf458a4208fd7",
            "max": 782,
            "min": 0,
            "orientation": "horizontal",
            "style": "IPY_MODEL_49b57d3a43be4ec382bd098c217f986c",
            "value": 782
          }
        },
        "e39e21bf219f42cfaf82fa889fefec2a": {
          "model_module": "@jupyter-widgets/controls",
          "model_name": "HTMLModel",
          "model_module_version": "1.5.0",
          "state": {
            "_dom_classes": [],
            "_model_module": "@jupyter-widgets/controls",
            "_model_module_version": "1.5.0",
            "_model_name": "HTMLModel",
            "_view_count": null,
            "_view_module": "@jupyter-widgets/controls",
            "_view_module_version": "1.5.0",
            "_view_name": "HTMLView",
            "description": "",
            "description_tooltip": null,
            "layout": "IPY_MODEL_51e626ba918d4de7b00453ce2b216c8b",
            "placeholder": "​",
            "style": "IPY_MODEL_20866af7b5ed413e943c108f68a1d729",
            "value": " 782/782 [00:22&lt;00:00, 27.55it/s]"
          }
        },
        "9be95c186bce4355b0353b9b859be329": {
          "model_module": "@jupyter-widgets/base",
          "model_name": "LayoutModel",
          "model_module_version": "1.2.0",
          "state": {
            "_model_module": "@jupyter-widgets/base",
            "_model_module_version": "1.2.0",
            "_model_name": "LayoutModel",
            "_view_count": null,
            "_view_module": "@jupyter-widgets/base",
            "_view_module_version": "1.2.0",
            "_view_name": "LayoutView",
            "align_content": null,
            "align_items": null,
            "align_self": null,
            "border": null,
            "bottom": null,
            "display": null,
            "flex": null,
            "flex_flow": null,
            "grid_area": null,
            "grid_auto_columns": null,
            "grid_auto_flow": null,
            "grid_auto_rows": null,
            "grid_column": null,
            "grid_gap": null,
            "grid_row": null,
            "grid_template_areas": null,
            "grid_template_columns": null,
            "grid_template_rows": null,
            "height": null,
            "justify_content": null,
            "justify_items": null,
            "left": null,
            "margin": null,
            "max_height": null,
            "max_width": null,
            "min_height": null,
            "min_width": null,
            "object_fit": null,
            "object_position": null,
            "order": null,
            "overflow": null,
            "overflow_x": null,
            "overflow_y": null,
            "padding": null,
            "right": null,
            "top": null,
            "visibility": null,
            "width": null
          }
        },
        "3c75a237903f48eea250348049d657aa": {
          "model_module": "@jupyter-widgets/base",
          "model_name": "LayoutModel",
          "model_module_version": "1.2.0",
          "state": {
            "_model_module": "@jupyter-widgets/base",
            "_model_module_version": "1.2.0",
            "_model_name": "LayoutModel",
            "_view_count": null,
            "_view_module": "@jupyter-widgets/base",
            "_view_module_version": "1.2.0",
            "_view_name": "LayoutView",
            "align_content": null,
            "align_items": null,
            "align_self": null,
            "border": null,
            "bottom": null,
            "display": null,
            "flex": null,
            "flex_flow": null,
            "grid_area": null,
            "grid_auto_columns": null,
            "grid_auto_flow": null,
            "grid_auto_rows": null,
            "grid_column": null,
            "grid_gap": null,
            "grid_row": null,
            "grid_template_areas": null,
            "grid_template_columns": null,
            "grid_template_rows": null,
            "height": null,
            "justify_content": null,
            "justify_items": null,
            "left": null,
            "margin": null,
            "max_height": null,
            "max_width": null,
            "min_height": null,
            "min_width": null,
            "object_fit": null,
            "object_position": null,
            "order": null,
            "overflow": null,
            "overflow_x": null,
            "overflow_y": null,
            "padding": null,
            "right": null,
            "top": null,
            "visibility": null,
            "width": null
          }
        },
        "0fa2310c93d44a9283643163def23d81": {
          "model_module": "@jupyter-widgets/controls",
          "model_name": "DescriptionStyleModel",
          "model_module_version": "1.5.0",
          "state": {
            "_model_module": "@jupyter-widgets/controls",
            "_model_module_version": "1.5.0",
            "_model_name": "DescriptionStyleModel",
            "_view_count": null,
            "_view_module": "@jupyter-widgets/base",
            "_view_module_version": "1.2.0",
            "_view_name": "StyleView",
            "description_width": ""
          }
        },
        "67a4157ea02c4c1aabebf458a4208fd7": {
          "model_module": "@jupyter-widgets/base",
          "model_name": "LayoutModel",
          "model_module_version": "1.2.0",
          "state": {
            "_model_module": "@jupyter-widgets/base",
            "_model_module_version": "1.2.0",
            "_model_name": "LayoutModel",
            "_view_count": null,
            "_view_module": "@jupyter-widgets/base",
            "_view_module_version": "1.2.0",
            "_view_name": "LayoutView",
            "align_content": null,
            "align_items": null,
            "align_self": null,
            "border": null,
            "bottom": null,
            "display": null,
            "flex": null,
            "flex_flow": null,
            "grid_area": null,
            "grid_auto_columns": null,
            "grid_auto_flow": null,
            "grid_auto_rows": null,
            "grid_column": null,
            "grid_gap": null,
            "grid_row": null,
            "grid_template_areas": null,
            "grid_template_columns": null,
            "grid_template_rows": null,
            "height": null,
            "justify_content": null,
            "justify_items": null,
            "left": null,
            "margin": null,
            "max_height": null,
            "max_width": null,
            "min_height": null,
            "min_width": null,
            "object_fit": null,
            "object_position": null,
            "order": null,
            "overflow": null,
            "overflow_x": null,
            "overflow_y": null,
            "padding": null,
            "right": null,
            "top": null,
            "visibility": null,
            "width": null
          }
        },
        "49b57d3a43be4ec382bd098c217f986c": {
          "model_module": "@jupyter-widgets/controls",
          "model_name": "ProgressStyleModel",
          "model_module_version": "1.5.0",
          "state": {
            "_model_module": "@jupyter-widgets/controls",
            "_model_module_version": "1.5.0",
            "_model_name": "ProgressStyleModel",
            "_view_count": null,
            "_view_module": "@jupyter-widgets/base",
            "_view_module_version": "1.2.0",
            "_view_name": "StyleView",
            "bar_color": null,
            "description_width": ""
          }
        },
        "51e626ba918d4de7b00453ce2b216c8b": {
          "model_module": "@jupyter-widgets/base",
          "model_name": "LayoutModel",
          "model_module_version": "1.2.0",
          "state": {
            "_model_module": "@jupyter-widgets/base",
            "_model_module_version": "1.2.0",
            "_model_name": "LayoutModel",
            "_view_count": null,
            "_view_module": "@jupyter-widgets/base",
            "_view_module_version": "1.2.0",
            "_view_name": "LayoutView",
            "align_content": null,
            "align_items": null,
            "align_self": null,
            "border": null,
            "bottom": null,
            "display": null,
            "flex": null,
            "flex_flow": null,
            "grid_area": null,
            "grid_auto_columns": null,
            "grid_auto_flow": null,
            "grid_auto_rows": null,
            "grid_column": null,
            "grid_gap": null,
            "grid_row": null,
            "grid_template_areas": null,
            "grid_template_columns": null,
            "grid_template_rows": null,
            "height": null,
            "justify_content": null,
            "justify_items": null,
            "left": null,
            "margin": null,
            "max_height": null,
            "max_width": null,
            "min_height": null,
            "min_width": null,
            "object_fit": null,
            "object_position": null,
            "order": null,
            "overflow": null,
            "overflow_x": null,
            "overflow_y": null,
            "padding": null,
            "right": null,
            "top": null,
            "visibility": null,
            "width": null
          }
        },
        "20866af7b5ed413e943c108f68a1d729": {
          "model_module": "@jupyter-widgets/controls",
          "model_name": "DescriptionStyleModel",
          "model_module_version": "1.5.0",
          "state": {
            "_model_module": "@jupyter-widgets/controls",
            "_model_module_version": "1.5.0",
            "_model_name": "DescriptionStyleModel",
            "_view_count": null,
            "_view_module": "@jupyter-widgets/base",
            "_view_module_version": "1.2.0",
            "_view_name": "StyleView",
            "description_width": ""
          }
        },
        "60e06037eecb45248da8c312647f74a4": {
          "model_module": "@jupyter-widgets/controls",
          "model_name": "HBoxModel",
          "model_module_version": "1.5.0",
          "state": {
            "_dom_classes": [],
            "_model_module": "@jupyter-widgets/controls",
            "_model_module_version": "1.5.0",
            "_model_name": "HBoxModel",
            "_view_count": null,
            "_view_module": "@jupyter-widgets/controls",
            "_view_module_version": "1.5.0",
            "_view_name": "HBoxView",
            "box_style": "",
            "children": [
              "IPY_MODEL_0f11758c8fd3414195048becdc2cc414",
              "IPY_MODEL_f84c3941abc446b0b55a921b8498f64e",
              "IPY_MODEL_06b3d5cce4f54819a6b2b0fcc62ccc1b"
            ],
            "layout": "IPY_MODEL_1a7e4e743eb44f168323bde2f4973e8d"
          }
        },
        "0f11758c8fd3414195048becdc2cc414": {
          "model_module": "@jupyter-widgets/controls",
          "model_name": "HTMLModel",
          "model_module_version": "1.5.0",
          "state": {
            "_dom_classes": [],
            "_model_module": "@jupyter-widgets/controls",
            "_model_module_version": "1.5.0",
            "_model_name": "HTMLModel",
            "_view_count": null,
            "_view_module": "@jupyter-widgets/controls",
            "_view_module_version": "1.5.0",
            "_view_name": "HTMLView",
            "description": "",
            "description_tooltip": null,
            "layout": "IPY_MODEL_7c92a686ae1148a0af8ee0f6122f77e4",
            "placeholder": "​",
            "style": "IPY_MODEL_333365dd3516451d9b9c2dbfe620624d",
            "value": "Epoch 1 - 100% -- loss 2.29: 100%"
          }
        },
        "f84c3941abc446b0b55a921b8498f64e": {
          "model_module": "@jupyter-widgets/controls",
          "model_name": "FloatProgressModel",
          "model_module_version": "1.5.0",
          "state": {
            "_dom_classes": [],
            "_model_module": "@jupyter-widgets/controls",
            "_model_module_version": "1.5.0",
            "_model_name": "FloatProgressModel",
            "_view_count": null,
            "_view_module": "@jupyter-widgets/controls",
            "_view_module_version": "1.5.0",
            "_view_name": "ProgressView",
            "bar_style": "",
            "description": "",
            "description_tooltip": null,
            "layout": "IPY_MODEL_c1d18c6a3bf741a3b1e3c1fba4b6bdf9",
            "max": 782,
            "min": 0,
            "orientation": "horizontal",
            "style": "IPY_MODEL_96c0ec37e6034f3a981bf53c91364733",
            "value": 782
          }
        },
        "06b3d5cce4f54819a6b2b0fcc62ccc1b": {
          "model_module": "@jupyter-widgets/controls",
          "model_name": "HTMLModel",
          "model_module_version": "1.5.0",
          "state": {
            "_dom_classes": [],
            "_model_module": "@jupyter-widgets/controls",
            "_model_module_version": "1.5.0",
            "_model_name": "HTMLModel",
            "_view_count": null,
            "_view_module": "@jupyter-widgets/controls",
            "_view_module_version": "1.5.0",
            "_view_name": "HTMLView",
            "description": "",
            "description_tooltip": null,
            "layout": "IPY_MODEL_2993b24b942347eb8059d87020d1ca1c",
            "placeholder": "​",
            "style": "IPY_MODEL_4f4b8f7aa67e43869e316a7feb27cdfd",
            "value": " 782/782 [00:22&lt;00:00, 32.80it/s]"
          }
        },
        "1a7e4e743eb44f168323bde2f4973e8d": {
          "model_module": "@jupyter-widgets/base",
          "model_name": "LayoutModel",
          "model_module_version": "1.2.0",
          "state": {
            "_model_module": "@jupyter-widgets/base",
            "_model_module_version": "1.2.0",
            "_model_name": "LayoutModel",
            "_view_count": null,
            "_view_module": "@jupyter-widgets/base",
            "_view_module_version": "1.2.0",
            "_view_name": "LayoutView",
            "align_content": null,
            "align_items": null,
            "align_self": null,
            "border": null,
            "bottom": null,
            "display": null,
            "flex": null,
            "flex_flow": null,
            "grid_area": null,
            "grid_auto_columns": null,
            "grid_auto_flow": null,
            "grid_auto_rows": null,
            "grid_column": null,
            "grid_gap": null,
            "grid_row": null,
            "grid_template_areas": null,
            "grid_template_columns": null,
            "grid_template_rows": null,
            "height": null,
            "justify_content": null,
            "justify_items": null,
            "left": null,
            "margin": null,
            "max_height": null,
            "max_width": null,
            "min_height": null,
            "min_width": null,
            "object_fit": null,
            "object_position": null,
            "order": null,
            "overflow": null,
            "overflow_x": null,
            "overflow_y": null,
            "padding": null,
            "right": null,
            "top": null,
            "visibility": null,
            "width": null
          }
        },
        "7c92a686ae1148a0af8ee0f6122f77e4": {
          "model_module": "@jupyter-widgets/base",
          "model_name": "LayoutModel",
          "model_module_version": "1.2.0",
          "state": {
            "_model_module": "@jupyter-widgets/base",
            "_model_module_version": "1.2.0",
            "_model_name": "LayoutModel",
            "_view_count": null,
            "_view_module": "@jupyter-widgets/base",
            "_view_module_version": "1.2.0",
            "_view_name": "LayoutView",
            "align_content": null,
            "align_items": null,
            "align_self": null,
            "border": null,
            "bottom": null,
            "display": null,
            "flex": null,
            "flex_flow": null,
            "grid_area": null,
            "grid_auto_columns": null,
            "grid_auto_flow": null,
            "grid_auto_rows": null,
            "grid_column": null,
            "grid_gap": null,
            "grid_row": null,
            "grid_template_areas": null,
            "grid_template_columns": null,
            "grid_template_rows": null,
            "height": null,
            "justify_content": null,
            "justify_items": null,
            "left": null,
            "margin": null,
            "max_height": null,
            "max_width": null,
            "min_height": null,
            "min_width": null,
            "object_fit": null,
            "object_position": null,
            "order": null,
            "overflow": null,
            "overflow_x": null,
            "overflow_y": null,
            "padding": null,
            "right": null,
            "top": null,
            "visibility": null,
            "width": null
          }
        },
        "333365dd3516451d9b9c2dbfe620624d": {
          "model_module": "@jupyter-widgets/controls",
          "model_name": "DescriptionStyleModel",
          "model_module_version": "1.5.0",
          "state": {
            "_model_module": "@jupyter-widgets/controls",
            "_model_module_version": "1.5.0",
            "_model_name": "DescriptionStyleModel",
            "_view_count": null,
            "_view_module": "@jupyter-widgets/base",
            "_view_module_version": "1.2.0",
            "_view_name": "StyleView",
            "description_width": ""
          }
        },
        "c1d18c6a3bf741a3b1e3c1fba4b6bdf9": {
          "model_module": "@jupyter-widgets/base",
          "model_name": "LayoutModel",
          "model_module_version": "1.2.0",
          "state": {
            "_model_module": "@jupyter-widgets/base",
            "_model_module_version": "1.2.0",
            "_model_name": "LayoutModel",
            "_view_count": null,
            "_view_module": "@jupyter-widgets/base",
            "_view_module_version": "1.2.0",
            "_view_name": "LayoutView",
            "align_content": null,
            "align_items": null,
            "align_self": null,
            "border": null,
            "bottom": null,
            "display": null,
            "flex": null,
            "flex_flow": null,
            "grid_area": null,
            "grid_auto_columns": null,
            "grid_auto_flow": null,
            "grid_auto_rows": null,
            "grid_column": null,
            "grid_gap": null,
            "grid_row": null,
            "grid_template_areas": null,
            "grid_template_columns": null,
            "grid_template_rows": null,
            "height": null,
            "justify_content": null,
            "justify_items": null,
            "left": null,
            "margin": null,
            "max_height": null,
            "max_width": null,
            "min_height": null,
            "min_width": null,
            "object_fit": null,
            "object_position": null,
            "order": null,
            "overflow": null,
            "overflow_x": null,
            "overflow_y": null,
            "padding": null,
            "right": null,
            "top": null,
            "visibility": null,
            "width": null
          }
        },
        "96c0ec37e6034f3a981bf53c91364733": {
          "model_module": "@jupyter-widgets/controls",
          "model_name": "ProgressStyleModel",
          "model_module_version": "1.5.0",
          "state": {
            "_model_module": "@jupyter-widgets/controls",
            "_model_module_version": "1.5.0",
            "_model_name": "ProgressStyleModel",
            "_view_count": null,
            "_view_module": "@jupyter-widgets/base",
            "_view_module_version": "1.2.0",
            "_view_name": "StyleView",
            "bar_color": null,
            "description_width": ""
          }
        },
        "2993b24b942347eb8059d87020d1ca1c": {
          "model_module": "@jupyter-widgets/base",
          "model_name": "LayoutModel",
          "model_module_version": "1.2.0",
          "state": {
            "_model_module": "@jupyter-widgets/base",
            "_model_module_version": "1.2.0",
            "_model_name": "LayoutModel",
            "_view_count": null,
            "_view_module": "@jupyter-widgets/base",
            "_view_module_version": "1.2.0",
            "_view_name": "LayoutView",
            "align_content": null,
            "align_items": null,
            "align_self": null,
            "border": null,
            "bottom": null,
            "display": null,
            "flex": null,
            "flex_flow": null,
            "grid_area": null,
            "grid_auto_columns": null,
            "grid_auto_flow": null,
            "grid_auto_rows": null,
            "grid_column": null,
            "grid_gap": null,
            "grid_row": null,
            "grid_template_areas": null,
            "grid_template_columns": null,
            "grid_template_rows": null,
            "height": null,
            "justify_content": null,
            "justify_items": null,
            "left": null,
            "margin": null,
            "max_height": null,
            "max_width": null,
            "min_height": null,
            "min_width": null,
            "object_fit": null,
            "object_position": null,
            "order": null,
            "overflow": null,
            "overflow_x": null,
            "overflow_y": null,
            "padding": null,
            "right": null,
            "top": null,
            "visibility": null,
            "width": null
          }
        },
        "4f4b8f7aa67e43869e316a7feb27cdfd": {
          "model_module": "@jupyter-widgets/controls",
          "model_name": "DescriptionStyleModel",
          "model_module_version": "1.5.0",
          "state": {
            "_model_module": "@jupyter-widgets/controls",
            "_model_module_version": "1.5.0",
            "_model_name": "DescriptionStyleModel",
            "_view_count": null,
            "_view_module": "@jupyter-widgets/base",
            "_view_module_version": "1.2.0",
            "_view_name": "StyleView",
            "description_width": ""
          }
        },
        "efb018dc11274260ba3fe44957f64c25": {
          "model_module": "@jupyter-widgets/controls",
          "model_name": "HBoxModel",
          "model_module_version": "1.5.0",
          "state": {
            "_dom_classes": [],
            "_model_module": "@jupyter-widgets/controls",
            "_model_module_version": "1.5.0",
            "_model_name": "HBoxModel",
            "_view_count": null,
            "_view_module": "@jupyter-widgets/controls",
            "_view_module_version": "1.5.0",
            "_view_name": "HBoxView",
            "box_style": "",
            "children": [
              "IPY_MODEL_abe6f9e3de1743108811e8ffe527164d",
              "IPY_MODEL_10731117dade440bbaa933159f8a8bac",
              "IPY_MODEL_9f6bf73cd73941b2a77c00a375cef6a9"
            ],
            "layout": "IPY_MODEL_d120edcb5b234d399cf675e3ae21cae7"
          }
        },
        "abe6f9e3de1743108811e8ffe527164d": {
          "model_module": "@jupyter-widgets/controls",
          "model_name": "HTMLModel",
          "model_module_version": "1.5.0",
          "state": {
            "_dom_classes": [],
            "_model_module": "@jupyter-widgets/controls",
            "_model_module_version": "1.5.0",
            "_model_name": "HTMLModel",
            "_view_count": null,
            "_view_module": "@jupyter-widgets/controls",
            "_view_module_version": "1.5.0",
            "_view_name": "HTMLView",
            "description": "",
            "description_tooltip": null,
            "layout": "IPY_MODEL_ca18e8bc919a4dc3bad6237b573d411c",
            "placeholder": "​",
            "style": "IPY_MODEL_48d5023a1d22464db141f1aa5e20ba64",
            "value": "Epoch 2 - 37% -- loss 2.35:  37%"
          }
        },
        "10731117dade440bbaa933159f8a8bac": {
          "model_module": "@jupyter-widgets/controls",
          "model_name": "FloatProgressModel",
          "model_module_version": "1.5.0",
          "state": {
            "_dom_classes": [],
            "_model_module": "@jupyter-widgets/controls",
            "_model_module_version": "1.5.0",
            "_model_name": "FloatProgressModel",
            "_view_count": null,
            "_view_module": "@jupyter-widgets/controls",
            "_view_module_version": "1.5.0",
            "_view_name": "ProgressView",
            "bar_style": "",
            "description": "",
            "description_tooltip": null,
            "layout": "IPY_MODEL_e502243466e04387a13ce80628e8cce9",
            "max": 782,
            "min": 0,
            "orientation": "horizontal",
            "style": "IPY_MODEL_512b0185eae847a581dc72c2e0d73fd7",
            "value": 288
          }
        },
        "9f6bf73cd73941b2a77c00a375cef6a9": {
          "model_module": "@jupyter-widgets/controls",
          "model_name": "HTMLModel",
          "model_module_version": "1.5.0",
          "state": {
            "_dom_classes": [],
            "_model_module": "@jupyter-widgets/controls",
            "_model_module_version": "1.5.0",
            "_model_name": "HTMLModel",
            "_view_count": null,
            "_view_module": "@jupyter-widgets/controls",
            "_view_module_version": "1.5.0",
            "_view_name": "HTMLView",
            "description": "",
            "description_tooltip": null,
            "layout": "IPY_MODEL_2077a7b7b223454786ed2f1737ce4ede",
            "placeholder": "​",
            "style": "IPY_MODEL_9eca34b03e734df699e10f78d60dc88e",
            "value": " 288/782 [00:10&lt;00:44, 11.09it/s]"
          }
        },
        "d120edcb5b234d399cf675e3ae21cae7": {
          "model_module": "@jupyter-widgets/base",
          "model_name": "LayoutModel",
          "model_module_version": "1.2.0",
          "state": {
            "_model_module": "@jupyter-widgets/base",
            "_model_module_version": "1.2.0",
            "_model_name": "LayoutModel",
            "_view_count": null,
            "_view_module": "@jupyter-widgets/base",
            "_view_module_version": "1.2.0",
            "_view_name": "LayoutView",
            "align_content": null,
            "align_items": null,
            "align_self": null,
            "border": null,
            "bottom": null,
            "display": null,
            "flex": null,
            "flex_flow": null,
            "grid_area": null,
            "grid_auto_columns": null,
            "grid_auto_flow": null,
            "grid_auto_rows": null,
            "grid_column": null,
            "grid_gap": null,
            "grid_row": null,
            "grid_template_areas": null,
            "grid_template_columns": null,
            "grid_template_rows": null,
            "height": null,
            "justify_content": null,
            "justify_items": null,
            "left": null,
            "margin": null,
            "max_height": null,
            "max_width": null,
            "min_height": null,
            "min_width": null,
            "object_fit": null,
            "object_position": null,
            "order": null,
            "overflow": null,
            "overflow_x": null,
            "overflow_y": null,
            "padding": null,
            "right": null,
            "top": null,
            "visibility": null,
            "width": null
          }
        },
        "ca18e8bc919a4dc3bad6237b573d411c": {
          "model_module": "@jupyter-widgets/base",
          "model_name": "LayoutModel",
          "model_module_version": "1.2.0",
          "state": {
            "_model_module": "@jupyter-widgets/base",
            "_model_module_version": "1.2.0",
            "_model_name": "LayoutModel",
            "_view_count": null,
            "_view_module": "@jupyter-widgets/base",
            "_view_module_version": "1.2.0",
            "_view_name": "LayoutView",
            "align_content": null,
            "align_items": null,
            "align_self": null,
            "border": null,
            "bottom": null,
            "display": null,
            "flex": null,
            "flex_flow": null,
            "grid_area": null,
            "grid_auto_columns": null,
            "grid_auto_flow": null,
            "grid_auto_rows": null,
            "grid_column": null,
            "grid_gap": null,
            "grid_row": null,
            "grid_template_areas": null,
            "grid_template_columns": null,
            "grid_template_rows": null,
            "height": null,
            "justify_content": null,
            "justify_items": null,
            "left": null,
            "margin": null,
            "max_height": null,
            "max_width": null,
            "min_height": null,
            "min_width": null,
            "object_fit": null,
            "object_position": null,
            "order": null,
            "overflow": null,
            "overflow_x": null,
            "overflow_y": null,
            "padding": null,
            "right": null,
            "top": null,
            "visibility": null,
            "width": null
          }
        },
        "48d5023a1d22464db141f1aa5e20ba64": {
          "model_module": "@jupyter-widgets/controls",
          "model_name": "DescriptionStyleModel",
          "model_module_version": "1.5.0",
          "state": {
            "_model_module": "@jupyter-widgets/controls",
            "_model_module_version": "1.5.0",
            "_model_name": "DescriptionStyleModel",
            "_view_count": null,
            "_view_module": "@jupyter-widgets/base",
            "_view_module_version": "1.2.0",
            "_view_name": "StyleView",
            "description_width": ""
          }
        },
        "e502243466e04387a13ce80628e8cce9": {
          "model_module": "@jupyter-widgets/base",
          "model_name": "LayoutModel",
          "model_module_version": "1.2.0",
          "state": {
            "_model_module": "@jupyter-widgets/base",
            "_model_module_version": "1.2.0",
            "_model_name": "LayoutModel",
            "_view_count": null,
            "_view_module": "@jupyter-widgets/base",
            "_view_module_version": "1.2.0",
            "_view_name": "LayoutView",
            "align_content": null,
            "align_items": null,
            "align_self": null,
            "border": null,
            "bottom": null,
            "display": null,
            "flex": null,
            "flex_flow": null,
            "grid_area": null,
            "grid_auto_columns": null,
            "grid_auto_flow": null,
            "grid_auto_rows": null,
            "grid_column": null,
            "grid_gap": null,
            "grid_row": null,
            "grid_template_areas": null,
            "grid_template_columns": null,
            "grid_template_rows": null,
            "height": null,
            "justify_content": null,
            "justify_items": null,
            "left": null,
            "margin": null,
            "max_height": null,
            "max_width": null,
            "min_height": null,
            "min_width": null,
            "object_fit": null,
            "object_position": null,
            "order": null,
            "overflow": null,
            "overflow_x": null,
            "overflow_y": null,
            "padding": null,
            "right": null,
            "top": null,
            "visibility": null,
            "width": null
          }
        },
        "512b0185eae847a581dc72c2e0d73fd7": {
          "model_module": "@jupyter-widgets/controls",
          "model_name": "ProgressStyleModel",
          "model_module_version": "1.5.0",
          "state": {
            "_model_module": "@jupyter-widgets/controls",
            "_model_module_version": "1.5.0",
            "_model_name": "ProgressStyleModel",
            "_view_count": null,
            "_view_module": "@jupyter-widgets/base",
            "_view_module_version": "1.2.0",
            "_view_name": "StyleView",
            "bar_color": null,
            "description_width": ""
          }
        },
        "2077a7b7b223454786ed2f1737ce4ede": {
          "model_module": "@jupyter-widgets/base",
          "model_name": "LayoutModel",
          "model_module_version": "1.2.0",
          "state": {
            "_model_module": "@jupyter-widgets/base",
            "_model_module_version": "1.2.0",
            "_model_name": "LayoutModel",
            "_view_count": null,
            "_view_module": "@jupyter-widgets/base",
            "_view_module_version": "1.2.0",
            "_view_name": "LayoutView",
            "align_content": null,
            "align_items": null,
            "align_self": null,
            "border": null,
            "bottom": null,
            "display": null,
            "flex": null,
            "flex_flow": null,
            "grid_area": null,
            "grid_auto_columns": null,
            "grid_auto_flow": null,
            "grid_auto_rows": null,
            "grid_column": null,
            "grid_gap": null,
            "grid_row": null,
            "grid_template_areas": null,
            "grid_template_columns": null,
            "grid_template_rows": null,
            "height": null,
            "justify_content": null,
            "justify_items": null,
            "left": null,
            "margin": null,
            "max_height": null,
            "max_width": null,
            "min_height": null,
            "min_width": null,
            "object_fit": null,
            "object_position": null,
            "order": null,
            "overflow": null,
            "overflow_x": null,
            "overflow_y": null,
            "padding": null,
            "right": null,
            "top": null,
            "visibility": null,
            "width": null
          }
        },
        "9eca34b03e734df699e10f78d60dc88e": {
          "model_module": "@jupyter-widgets/controls",
          "model_name": "DescriptionStyleModel",
          "model_module_version": "1.5.0",
          "state": {
            "_model_module": "@jupyter-widgets/controls",
            "_model_module_version": "1.5.0",
            "_model_name": "DescriptionStyleModel",
            "_view_count": null,
            "_view_module": "@jupyter-widgets/base",
            "_view_module_version": "1.2.0",
            "_view_name": "StyleView",
            "description_width": ""
          }
        }
      }
    }
  },
  "nbformat": 4,
  "nbformat_minor": 0
}